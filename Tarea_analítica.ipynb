{
  "nbformat": 4,
  "nbformat_minor": 0,
  "metadata": {
    "colab": {
      "provenance": [],
      "authorship_tag": "ABX9TyNc5LgmJw6UH4zIXcaViIUx",
      "include_colab_link": true
    },
    "kernelspec": {
      "name": "python3",
      "display_name": "Python 3"
    },
    "language_info": {
      "name": "python"
    }
  },
  "cells": [
    {
      "cell_type": "markdown",
      "metadata": {
        "id": "view-in-github",
        "colab_type": "text"
      },
      "source": [
        "<a href=\"https://colab.research.google.com/github/starmath4/Tarea/blob/main/Tarea_anal%C3%ADtica.ipynb\" target=\"_parent\"><img src=\"https://colab.research.google.com/assets/colab-badge.svg\" alt=\"Open In Colab\"/></a>"
      ]
    },
    {
      "cell_type": "code",
      "source": [
        "def bisection_method(f, a, b, tolerance=1e-9, max_iterations=1000):\n",
        "    if f(a) * f(b) >= 0:\n",
        "        print(\"Puede que no converja\")\n",
        "        return None\n",
        "\n",
        "    iteration = 0\n",
        "    while (b - a) / 2 > tolerance and iteration < max_iterations:\n",
        "        c = (a + b) / 2\n",
        "        if f(c) == 0:\n",
        "            return c\n",
        "        elif f(c) * f(a) < 0:\n",
        "            b = c\n",
        "        else:\n",
        "            a = c\n",
        "        iteration += 1\n",
        "\n",
        "    return (a + b) / 2\n",
        "\n",
        "def polynomial(x):\n",
        "    a=1\n",
        "    b=2\n",
        "    R=1\n",
        "    h=1\n",
        "    delta=1\n",
        "    q=1\n",
        "    epsilon=0.000000000008854\n",
        "    return (1-x/np.sqrt(R**2+x**2)-x/np.sqrt(a**2+(h-x)**2)+x/np.sqrt(b**2+(h-x)**2));\n",
        "\n",
        "a = 0\n",
        "b = 10\n",
        "root = bisection_method(polynomial, a, b)\n",
        "\n",
        "if root is not None:\n",
        "    print(f\"Raíz encontrada en x = {root}\")\n",
        "else:\n",
        "    print(\"No se encontró una raíz en el intervalo especificado.\")"
      ],
      "metadata": {
        "colab": {
          "base_uri": "https://localhost:8080/"
        },
        "id": "blNX17VFwas5",
        "outputId": "3f811cd9-a7a6-4ad6-abe5-499a5b93865b"
      },
      "execution_count": null,
      "outputs": [
        {
          "output_type": "stream",
          "name": "stdout",
          "text": [
            "Raíz encontrada en x = 0.7898231054423377\n"
          ]
        }
      ]
    }
  ]
}